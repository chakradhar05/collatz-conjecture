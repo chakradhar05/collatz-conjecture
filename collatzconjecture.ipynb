{
  "nbformat": 4,
  "nbformat_minor": 0,
  "metadata": {
    "colab": {
      "name": "collatzconjecture.ipynb",
      "provenance": [],
      "authorship_tag": "ABX9TyMZspONo4XlyIJLodazryy8",
      "include_colab_link": true
    },
    "kernelspec": {
      "name": "python3",
      "display_name": "Python 3"
    }
  },
  "cells": [
    {
      "cell_type": "markdown",
      "metadata": {
        "id": "view-in-github",
        "colab_type": "text"
      },
      "source": [
        "<a href=\"https://colab.research.google.com/github/chakradhar05/collatz-conjecture/blob/master/collatzconjecture.ipynb\" target=\"_parent\"><img src=\"https://colab.research.google.com/assets/colab-badge.svg\" alt=\"Open In Colab\"/></a>"
      ]
    },
    {
      "cell_type": "code",
      "metadata": {
        "id": "5_7bu5XZWu-S",
        "colab_type": "code",
        "colab": {
          "base_uri": "https://localhost:8080/",
          "height": 1000
        },
        "outputId": "b2bc90ba-4b56-4f1f-c405-dad954285d14"
      },
      "source": [
        "\n",
        "#defining collatz function\n",
        "def collatz(n):\n",
        "    \n",
        "  while n > 1:\n",
        "        if n % 2 == 0: #if n is even\n",
        "            n = n // 2\n",
        "            print(n) \n",
        "        else:\n",
        "            n = n * 3 + 1 #if n is odd\n",
        "            print(n)\n",
        "for i in range(10):\n",
        "    n = i\n",
        "    collatz(n)\n",
        "    print(\"This is The Collatz Sequence\",n)\n",
        "  "
      ],
      "execution_count": 1,
      "outputs": [
        {
          "output_type": "stream",
          "text": [
            "This is The Collatz Sequence 0\n",
            "This is The Collatz Sequence 1\n",
            "1\n",
            "This is The Collatz Sequence 2\n",
            "10\n",
            "5\n",
            "16\n",
            "8\n",
            "4\n",
            "2\n",
            "1\n",
            "This is The Collatz Sequence 3\n",
            "2\n",
            "1\n",
            "This is The Collatz Sequence 4\n",
            "16\n",
            "8\n",
            "4\n",
            "2\n",
            "1\n",
            "This is The Collatz Sequence 5\n",
            "3\n",
            "10\n",
            "5\n",
            "16\n",
            "8\n",
            "4\n",
            "2\n",
            "1\n",
            "This is The Collatz Sequence 6\n",
            "22\n",
            "11\n",
            "34\n",
            "17\n",
            "52\n",
            "26\n",
            "13\n",
            "40\n",
            "20\n",
            "10\n",
            "5\n",
            "16\n",
            "8\n",
            "4\n",
            "2\n",
            "1\n",
            "This is The Collatz Sequence 7\n",
            "4\n",
            "2\n",
            "1\n",
            "This is The Collatz Sequence 8\n",
            "28\n",
            "14\n",
            "7\n",
            "22\n",
            "11\n",
            "34\n",
            "17\n",
            "52\n",
            "26\n",
            "13\n",
            "40\n",
            "20\n",
            "10\n",
            "5\n",
            "16\n",
            "8\n",
            "4\n",
            "2\n",
            "1\n",
            "This is The Collatz Sequence 9\n"
          ],
          "name": "stdout"
        }
      ]
    },
    {
      "cell_type": "code",
      "metadata": {
        "id": "3g9SzjgMW1Oz",
        "colab_type": "code",
        "colab": {}
      },
      "source": [
        ""
      ],
      "execution_count": 0,
      "outputs": []
    }
  ]
}